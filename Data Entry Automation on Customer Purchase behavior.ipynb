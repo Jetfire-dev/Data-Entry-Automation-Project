{
 "cells": [
  {
   "cell_type": "markdown",
   "id": "724a0658",
   "metadata": {},
   "source": [
    "# Automated Data Entry Project Documentation"
   ]
  },
  {
   "cell_type": "markdown",
   "id": "2db812d6",
   "metadata": {},
   "source": [
    "## Step 1- Import required libraries"
   ]
  },
  {
   "cell_type": "code",
   "execution_count": 1,
   "id": "798333a4",
   "metadata": {},
   "outputs": [],
   "source": [
    "import pandas as pd\n",
    "from openpyxl import load_workbook"
   ]
  },
  {
   "cell_type": "markdown",
   "id": "ebfb766a",
   "metadata": {},
   "source": [
    "## Step 2- Read Customer data from csv file"
   ]
  },
  {
   "cell_type": "code",
   "execution_count": 2,
   "id": "cd828f10",
   "metadata": {},
   "outputs": [],
   "source": [
    "customer_data= pd.read_csv(\"purchase behaviou dataset.csv\")"
   ]
  },
  {
   "cell_type": "code",
   "execution_count": 3,
   "id": "326d1871",
   "metadata": {},
   "outputs": [
    {
     "data": {
      "text/html": [
       "<div>\n",
       "<style scoped>\n",
       "    .dataframe tbody tr th:only-of-type {\n",
       "        vertical-align: middle;\n",
       "    }\n",
       "\n",
       "    .dataframe tbody tr th {\n",
       "        vertical-align: top;\n",
       "    }\n",
       "\n",
       "    .dataframe thead th {\n",
       "        text-align: right;\n",
       "    }\n",
       "</style>\n",
       "<table border=\"1\" class=\"dataframe\">\n",
       "  <thead>\n",
       "    <tr style=\"text-align: right;\">\n",
       "      <th></th>\n",
       "      <th>LYLTY_CARD_NBR</th>\n",
       "      <th>LIFESTAGE</th>\n",
       "      <th>PREMIUM_CUSTOMER</th>\n",
       "    </tr>\n",
       "  </thead>\n",
       "  <tbody>\n",
       "    <tr>\n",
       "      <th>0</th>\n",
       "      <td>1000</td>\n",
       "      <td>YOUNG SINGLES/COUPLES</td>\n",
       "      <td>Premium</td>\n",
       "    </tr>\n",
       "    <tr>\n",
       "      <th>1</th>\n",
       "      <td>1002</td>\n",
       "      <td>YOUNG SINGLES/COUPLES</td>\n",
       "      <td>Mainstream</td>\n",
       "    </tr>\n",
       "    <tr>\n",
       "      <th>2</th>\n",
       "      <td>1003</td>\n",
       "      <td>YOUNG FAMILIES</td>\n",
       "      <td>Budget</td>\n",
       "    </tr>\n",
       "    <tr>\n",
       "      <th>3</th>\n",
       "      <td>1004</td>\n",
       "      <td>OLDER SINGLES/COUPLES</td>\n",
       "      <td>Mainstream</td>\n",
       "    </tr>\n",
       "    <tr>\n",
       "      <th>4</th>\n",
       "      <td>1005</td>\n",
       "      <td>MIDAGE SINGLES/COUPLES</td>\n",
       "      <td>Mainstream</td>\n",
       "    </tr>\n",
       "    <tr>\n",
       "      <th>...</th>\n",
       "      <td>...</td>\n",
       "      <td>...</td>\n",
       "      <td>...</td>\n",
       "    </tr>\n",
       "    <tr>\n",
       "      <th>72632</th>\n",
       "      <td>2370651</td>\n",
       "      <td>MIDAGE SINGLES/COUPLES</td>\n",
       "      <td>Mainstream</td>\n",
       "    </tr>\n",
       "    <tr>\n",
       "      <th>72633</th>\n",
       "      <td>2370701</td>\n",
       "      <td>YOUNG FAMILIES</td>\n",
       "      <td>Mainstream</td>\n",
       "    </tr>\n",
       "    <tr>\n",
       "      <th>72634</th>\n",
       "      <td>2370751</td>\n",
       "      <td>YOUNG FAMILIES</td>\n",
       "      <td>Premium</td>\n",
       "    </tr>\n",
       "    <tr>\n",
       "      <th>72635</th>\n",
       "      <td>2370961</td>\n",
       "      <td>OLDER FAMILIES</td>\n",
       "      <td>Budget</td>\n",
       "    </tr>\n",
       "    <tr>\n",
       "      <th>72636</th>\n",
       "      <td>2373711</td>\n",
       "      <td>YOUNG SINGLES/COUPLES</td>\n",
       "      <td>Mainstream</td>\n",
       "    </tr>\n",
       "  </tbody>\n",
       "</table>\n",
       "<p>72637 rows × 3 columns</p>\n",
       "</div>"
      ],
      "text/plain": [
       "       LYLTY_CARD_NBR               LIFESTAGE PREMIUM_CUSTOMER\n",
       "0                1000   YOUNG SINGLES/COUPLES          Premium\n",
       "1                1002   YOUNG SINGLES/COUPLES       Mainstream\n",
       "2                1003          YOUNG FAMILIES           Budget\n",
       "3                1004   OLDER SINGLES/COUPLES       Mainstream\n",
       "4                1005  MIDAGE SINGLES/COUPLES       Mainstream\n",
       "...               ...                     ...              ...\n",
       "72632         2370651  MIDAGE SINGLES/COUPLES       Mainstream\n",
       "72633         2370701          YOUNG FAMILIES       Mainstream\n",
       "72634         2370751          YOUNG FAMILIES          Premium\n",
       "72635         2370961          OLDER FAMILIES           Budget\n",
       "72636         2373711   YOUNG SINGLES/COUPLES       Mainstream\n",
       "\n",
       "[72637 rows x 3 columns]"
      ]
     },
     "execution_count": 3,
     "metadata": {},
     "output_type": "execute_result"
    }
   ],
   "source": [
    "customer_data"
   ]
  },
  {
   "cell_type": "markdown",
   "id": "1cef5a81",
   "metadata": {},
   "source": [
    "## Step 3- Open the spreadsheet path for Purchase behavior data entry"
   ]
  },
  {
   "cell_type": "code",
   "execution_count": 4,
   "id": "832db920",
   "metadata": {},
   "outputs": [],
   "source": [
    "spreadsheet_path= \"Purchase_Behavior_DataEntry.xlsx\"\n",
    "workbook= load_workbook(spreadsheet_path)\n",
    "worksheet= workbook.active"
   ]
  },
  {
   "cell_type": "markdown",
   "id": "352e0c31",
   "metadata": {},
   "source": [
    "## Step 4- Enter data into spreadsheet"
   ]
  },
  {
   "cell_type": "code",
   "execution_count": 5,
   "id": "bfc7a36f",
   "metadata": {},
   "outputs": [],
   "source": [
    "header_row = customer_data.columns.tolist()\n",
    "for col_index, column_name in enumerate(header_row):\n",
    "    worksheet.cell(row=1, column=col_index+1).value = column_name"
   ]
  },
  {
   "cell_type": "code",
   "execution_count": 6,
   "id": "ab803d07",
   "metadata": {},
   "outputs": [],
   "source": [
    "for index,row in customer_data.iterrows():\n",
    "    Loyalty_card_number= row[\"LYLTY_CARD_NBR\"]\n",
    "    lifestage = row[\"LIFESTAGE\"]\n",
    "    premium_customer= row[\"PREMIUM_CUSTOMER\"]\n",
    "    \n",
    "    worksheet.cell(row=index+2, column=1).value = Loyalty_card_number\n",
    "    worksheet.cell(row=index+2, column=2).value = lifestage\n",
    "    worksheet.cell(row=index+2, column=3).value = premium_customer"
   ]
  },
  {
   "cell_type": "markdown",
   "id": "51b6b18f",
   "metadata": {},
   "source": [
    "## Step 5- Save and close the spreadsheet"
   ]
  },
  {
   "cell_type": "code",
   "execution_count": 7,
   "id": "efb85a73",
   "metadata": {},
   "outputs": [],
   "source": [
    "workbook.save(spreadsheet_path)\n",
    "workbook.close()\n"
   ]
  }
 ],
 "metadata": {
  "kernelspec": {
   "display_name": "Python 3 (ipykernel)",
   "language": "python",
   "name": "python3"
  },
  "language_info": {
   "codemirror_mode": {
    "name": "ipython",
    "version": 3
   },
   "file_extension": ".py",
   "mimetype": "text/x-python",
   "name": "python",
   "nbconvert_exporter": "python",
   "pygments_lexer": "ipython3",
   "version": "3.9.13"
  }
 },
 "nbformat": 4,
 "nbformat_minor": 5
}
